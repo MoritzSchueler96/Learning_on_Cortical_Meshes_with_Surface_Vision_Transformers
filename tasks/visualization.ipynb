{
 "cells": [
  {
   "cell_type": "code",
   "execution_count": null,
   "metadata": {},
   "outputs": [],
   "source": []
  },
  {
   "cell_type": "code",
   "execution_count": null,
   "metadata": {},
   "outputs": [],
   "source": [
    "# coding: utf-8\n",
    "import os\n",
    "\n",
    "import nibabel as nib\n",
    "import pyvista as pv\n",
    "\n",
    "cwd = os.getcwd()\n",
    "print(cwd)\n",
    "\n",
    "file_directory = os.path.dirname(os.path.realpath(__file__))\n",
    "\n",
    "surface_data = os.path.join(file_directory, \"Native_Space/regression_native_space_surfaces/sub-CC00051XX02_ses-7702_L.pial.shape.gii\")\n",
    "\n",
    "feature_data = os.path.join(file_directory, \"Native_Space/regression_native_space_features/sub-CC00051XX02_ses-7702_L.shape.gii\")\n",
    "\n",
    "\n",
    "surface = nib.load(surface_data)\n",
    "features = nib.load(feature_data)\n",
    "s_points, s_tris = surface.agg_data()\n",
    "import numpy as np\n",
    "\n",
    "s_points, s_tris = surface.agg_data()\n",
    "s_faces = np.hstack([np.ones([s_tris.shape[0], 1], dtype=int) * s_tris.shape[1], s_tris])\n",
    "plotter = pv.Plotter()\n",
    "# s_poly = PolyData(s_points, s_faces)\n",
    "s_poly = pv.PolyData(s_points, s_faces)\n",
    "plotter.add_mesh(s_poly, smooth_shading=True)\n",
    "plotter.show()\n",
    "\n",
    "print(\"Done.\")\n"
   ]
  }
 ],
 "metadata": {
  "language_info": {
   "name": "python"
  },
  "orig_nbformat": 4
 },
 "nbformat": 4,
 "nbformat_minor": 2
}
